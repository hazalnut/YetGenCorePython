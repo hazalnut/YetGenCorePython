{
 "cells": [
  {
   "attachments": {},
   "cell_type": "markdown",
   "metadata": {},
   "source": [
    "# Problem 1\n",
    "\n",
    "Şimdi beraber kullanıcılardan aldığımız verileri işleyerek, onlara hem çıktı verecek, hem de aldığımız ve hesapladığımız verileri ileride kullanabilmek adına kaydedeceğiz.\n",
    "\n",
    "\n",
    " **Bu bir veri giriş platformu olacak**\n",
    "\n",
    "\n",
    " * kullanıcıya kaç giriş yapacağını soracağız\n",
    "* kullanıcıdan isim-soyisim, yaş, boy, kilo bilgilerini alarak VKİ hesaplayacağız\n",
    "* ardından bunları sınıflara göre kaydedeceğiz bir dosyaya kaydedeceğiz\n",
    "\n",
    "\n",
    "Sınıflar ise şu şekilde: \n",
    "* 18, 5 kg/m.'nin altında olanlar: Zayıf\n",
    "* 18.5 – 24, 9 kg/m. arasında olanlar: Normal kilolu\n",
    "* 25 – 29, 9 kg/m. arasında olanlar: Fazla kilolu\n",
    "* 30 – 39, 9 kg/m. arasında olanlar: Obez\n",
    "* 40 kg/m.'nin üzerinde olanlar: İleri derecede obez (morbid obez), olarak görülür."
   ]
  },
  {
   "cell_type": "code",
   "execution_count": 9,
   "metadata": {},
   "outputs": [
    {
     "name": "stdout",
     "output_type": "stream",
     "text": [
      "giris 1\n",
      "giris hakkınız kalmadı\n"
     ]
    }
   ],
   "source": [
    "dosya=open(\"bilgiler.txt3\",\"r\",encoding=\"utf-8\")\n",
    "dosya.read()\n",
    "\n",
    "giris=int(input(\"kaç giriş yapacaksınız\"))\n",
    "for i in range (0,giris):\n",
    "    if i<giris:\n",
    "        isim=input(\"isim giriniz\")\n",
    "        soyisim=input(\"soy isim giriniz\")\n",
    "        yas=(input(\"yaş giriniz\"))\n",
    "        boy=float(input(\"boy giriniz\"))\n",
    "        kilo=float(input(\"kilo giriniz\"))\n",
    "        VKİ=kilo/(boy*boy)\n",
    "\n",
    "    print(f\"giris {i+1}\")\n",
    "\n",
    "else: \n",
    "    print(\"giris hakkınız kalmadı\")\n",
    "\n",
    "\n",
    "def VKİhesaplama(VKİ):\n",
    "    if VKİ<18.5:\n",
    "        return \"zayıf\"\n",
    "    elif 18.5<=VKİ<24.9:\n",
    "        return \"normal kilolu\"\n",
    "    elif 25<=VKİ<29.9:\n",
    "        return \"fazla kilolu\"\n",
    "    elif 30<=VKİ<39.9:\n",
    "        return \"obez\"\n",
    "    else:\n",
    "        return \"ileri dercede obez(morbid obez)\"\n",
    "    \n",
    "liste={isim,soyisim,yas,VKİ}\n",
    "\n",
    "dosya=open(\"bilgiler.txt3\",\"w\",encoding=\"utf-8\")\n",
    "dosya.write(f\"isim:{isim} soyisim:{soyisim} yas:{yas} VKİ:{VKİ}\")\n",
    "dosya.close()\n",
    "\n"
   ]
  },
  {
   "attachments": {},
   "cell_type": "markdown",
   "metadata": {},
   "source": [
    "# Problem 2\n",
    "**YetBar - Smoothie Bank**\n",
    "---\n",
    "YetBar spor salonunun girişinde bulunan, insansız bir sağlıklı içecek otomatıdır. Kullanıcı çeşitli girdiler smoothie içeceğine koyacağı ürünleri belirleyebilir, fiyat hesaplaması yaptırabilir ya da sadece menüyü görüntüleyebilir.\n",
    "\n",
    "**Projenin Amacı:**\n",
    "\n",
    "*   Birbirini etkileyen ve bir kod içerisinde birden fazla defa başvurulacak fonksiyonların oluşturulup, \"fonksiyonel\" proglamlamak.\n",
    "*   Büyük programları yazarken, yazılımcı olarak yapabileceğimiz hatalardan kaçınmak için kontrol yöntemleri geliştirmek.\n",
    "*   Kullanıcı inputlarını ve yaptığımız hesapları, raporlamak/loglamak amacıyla kaydetmek.\n",
    "\n",
    "**Programdan Beklenen Çıktılar**\n",
    "* Program kullanıcıya temelde 2 farklı işlem yapma imkanı sağlar.\n",
    "> 1. Menüyü görüntüleme\n",
    "> 3. Satın alma\n",
    "* Satın alınan her içecek tarih, fiyat bilgisi ile kaydedilmeli ve her zaman ulaşılabilir olmalıdır.\n",
    "\n",
    "\n"
   ]
  },
  {
   "cell_type": "code",
   "execution_count": null,
   "metadata": {},
   "outputs": [],
   "source": [
    "# 2.Problemin Çözümünü Buraya Yazınız"
   ]
  }
 ],
 "metadata": {
  "kernelspec": {
   "display_name": "Python 3",
   "language": "python",
   "name": "python3"
  },
  "language_info": {
   "codemirror_mode": {
    "name": "ipython",
    "version": 3
   },
   "file_extension": ".py",
   "mimetype": "text/x-python",
   "name": "python",
   "nbconvert_exporter": "python",
   "pygments_lexer": "ipython3",
   "version": "3.12.3"
  },
  "orig_nbformat": 4,
  "vscode": {
   "interpreter": {
    "hash": "5026d2d6e7aaaaba093def813beadff083d8733e4a511af01735cbabd156995d"
   }
  }
 },
 "nbformat": 4,
 "nbformat_minor": 2
}
