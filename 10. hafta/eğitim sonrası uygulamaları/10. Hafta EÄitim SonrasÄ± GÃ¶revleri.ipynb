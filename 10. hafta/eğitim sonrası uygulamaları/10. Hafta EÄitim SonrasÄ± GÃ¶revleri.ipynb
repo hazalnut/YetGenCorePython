{
 "cells": [
  {
   "attachments": {},
   "cell_type": "markdown",
   "metadata": {},
   "source": [
    "# Problem 1 "
   ]
  },
  {
   "cell_type": "code",
   "execution_count": 2,
   "metadata": {},
   "outputs": [
    {
     "name": "stdout",
     "output_type": "stream",
     "text": [
      "[0 2 3 8 9]\n"
     ]
    }
   ],
   "source": [
    "import numpy as np\n",
    "a=np.array([8,3,2,9,0])\n",
    "print(np.sort(a,axis=0))"
   ]
  },
  {
   "attachments": {},
   "cell_type": "markdown",
   "metadata": {},
   "source": [
    "# Problem 2"
   ]
  },
  {
   "cell_type": "code",
   "execution_count": 44,
   "metadata": {},
   "outputs": [
    {
     "name": "stdout",
     "output_type": "stream",
     "text": [
      "[10 15 30 45 60]\n",
      "[ 5  6  7  8  9 10 11 12 13 14]\n",
      "[50 55 60 65 70 75 80 85 90 95]\n",
      "[0. 0. 0. 0. 0. 0. 0. 0. 0. 0.]\n",
      "[1. 1. 1. 1. 1. 1. 1. 1. 1. 1.]\n",
      "[  0.  25.  50.  75. 100.]\n",
      "[29 15 26 27 14]\n",
      "[[-1.31055924 -0.16282068]\n",
      " [-3.00099477 -2.23360015]\n",
      " [-0.58877511 -1.95207453]\n",
      " [-1.36290878 -0.86928929]\n",
      " [-1.49076183  0.32476438]]\n",
      "[[18 18 12 11 42]\n",
      " [38 17 28 31 27]\n",
      " [25 27 34 38 40]]\n",
      "8\n",
      "[11 12 17 18 18 25 27 27 28 31 34 38 38 40 42]\n",
      "11\n",
      "42\n",
      "26.5\n",
      "14\n",
      "[10 11 12 13 14 15 16 17 18 19]\n",
      "10\n",
      "11\n",
      "12\n",
      "[19 18 17 16 15 14 13 12 11 10]\n",
      "[[38 29 38 41 24]\n",
      " [27 44 19 49 42]\n",
      " [16 21 14 36 40]]\n",
      "[38 29 38 41 24]\n",
      "19\n",
      "[38 27 16]\n",
      "[[1444  841 1444 1681  576]\n",
      " [ 729 1936  361 2401 1764]\n",
      " [ 256  441  196 1296 1600]]\n",
      "[[-49   8   8  34   2]\n",
      " [ 14 -22  10   9 -44]\n",
      " [ 32  -5 -34 -11 -50]\n",
      " [ 26  39  -6 -38 -18]\n",
      " [ 14  12  29  -7 -19]]\n"
     ]
    },
    {
     "data": {
      "text/plain": [
       "array([ 8,  8, 34,  2, 14, 10, 32, 26, 14, 12])"
      ]
     },
     "execution_count": 44,
     "metadata": {},
     "output_type": "execute_result"
    }
   ],
   "source": [
    "import numpy as np\n",
    "print(np.array([10,15,30,45,60]))\n",
    "print(np.arange(5,15))\n",
    "print(np.arange(50,100,5))\n",
    "print(np.zeros(10))\n",
    "print(np.ones(10))\n",
    "print(np.linspace(0,100,5))\n",
    "print(np.random.randint(10,30,5))\n",
    "print(np.random.normal(-1,1,(5,2)))\n",
    "a=np.random.randint(10,50,size=[3,5])\n",
    "print(a)\n",
    "print(a.shape[0]+a.shape[1])\n",
    "b=a.flatten()\n",
    "b.sort()\n",
    "print(b)\n",
    "print(b[0])\n",
    "print(b[14])\n",
    "print((b[0]+b[14])/2)\n",
    "print(np.argmax(b))\n",
    "c=np.arange(10,20)\n",
    "print(c)\n",
    "print(c[0])\n",
    "print(c[1])\n",
    "print(c[2])\n",
    "d=c[::-1]\n",
    "print(d)\n",
    "a=np.random.randint(10,50,size=[3,5])\n",
    "print(a)\n",
    "print(a[0])\n",
    "print(a[1,2])\n",
    "print(a[(0,1,2),0])\n",
    "print(a**2)\n",
    "d=np.random.randint(-50,+50,size=(5,5))\n",
    "print(d)\n",
    "e=(d>0)&(d%2==0)\n",
    "d[e]\n",
    "\n",
    "\n",
    "# 19- Üretilen matris elemanlarının hangisi pozitif çift sayıdır ? Aralığı (-50,+50) arasında yapınız.\n"
   ]
  }
 ],
 "metadata": {
  "kernelspec": {
   "display_name": "Python 3",
   "language": "python",
   "name": "python3"
  },
  "language_info": {
   "codemirror_mode": {
    "name": "ipython",
    "version": 3
   },
   "file_extension": ".py",
   "mimetype": "text/x-python",
   "name": "python",
   "nbconvert_exporter": "python",
   "pygments_lexer": "ipython3",
   "version": "3.12.3"
  },
  "orig_nbformat": 4,
  "vscode": {
   "interpreter": {
    "hash": "5026d2d6e7aaaaba093def813beadff083d8733e4a511af01735cbabd156995d"
   }
  }
 },
 "nbformat": 4,
 "nbformat_minor": 2
}
